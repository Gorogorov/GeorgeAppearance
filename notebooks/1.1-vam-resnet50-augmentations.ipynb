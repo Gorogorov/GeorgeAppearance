{
 "cells": [
  {
   "cell_type": "code",
   "execution_count": 3,
   "metadata": {
    "id": "ADxxxTcNOW5I"
   },
   "outputs": [],
   "source": [
    "import os\n",
    "import copy\n",
    "import numpy as np\n",
    "import matplotlib.pyplot as plt\n",
    "%matplotlib inline\n",
    "import cv2\n",
    "import torch\n",
    "from torch.utils.data import DataLoader, Dataset\n",
    "import torchvision\n",
    "from torchvision import datasets, models, transforms\n",
    "import torch.nn as nn\n",
    "import torch.optim as optim\n",
    "import albumentations as A\n",
    "from albumentations.pytorch import ToTensorV2\n",
    "import random\n",
    "import time"
   ]
  },
  {
   "cell_type": "markdown",
   "metadata": {
    "id": "fZucfaUDOW50"
   },
   "source": [
    "### Load data"
   ]
  },
  {
   "cell_type": "code",
   "execution_count": null,
   "metadata": {
    "id": "gzYcurw-OW51"
   },
   "outputs": [],
   "source": [
    "!wget --random-wait -i ../data/georges.csv -P ../data/images/georges\n",
    "!wget --random-wait -i ../data/non_georges.csv -P ../data/images/non_georges"
   ]
  },
  {
   "cell_type": "markdown",
   "metadata": {
    "id": "ehsRld8bOW52"
   },
   "source": [
    "#### Remove dublicates"
   ]
  },
  {
   "cell_type": "code",
   "execution_count": null,
   "metadata": {
    "id": "iUinkFQeOW53"
   },
   "outputs": [],
   "source": [
    "!rm ../data/images/*/*.1\n",
    "!rm ../data/images/*/*.2\n",
    "!rm ../data/images/*/*.3"
   ]
  },
  {
   "cell_type": "markdown",
   "metadata": {
    "id": "82uDJDdPOW53"
   },
   "source": [
    "#### Visualize a few images"
   ]
  },
  {
   "cell_type": "code",
   "execution_count": null,
   "metadata": {
    "colab": {
     "base_uri": "https://localhost:8080/",
     "height": 988
    },
    "id": "O9Mjs6bxOW54",
    "outputId": "c924746d-9933-4769-8e49-5f92a618415e"
   },
   "outputs": [],
   "source": [
    "fig = plt.figure(figsize=(16, 17))\n",
    "axes = []\n",
    "path = '../data/images/georges'\n",
    "for i, img_name in zip(np.arange(1, 21), os.listdir(path)[:20]):\n",
    "    axes.append(fig.add_subplot(4, 5, i))\n",
    "    subplot_title = ('Image' + str(i))\n",
    "    axes[-1].set_title(subplot_title) \n",
    "    img_path = os.path.join(path, img_name)\n",
    "    img = cv2.imread(img_path)\n",
    "    img = cv2.cvtColor(img, cv2.COLOR_BGR2RGB)\n",
    "    plt.imshow(img)"
   ]
  },
  {
   "cell_type": "code",
   "execution_count": null,
   "metadata": {
    "colab": {
     "base_uri": "https://localhost:8080/",
     "height": 988
    },
    "id": "XEcEp-mdOW56",
    "outputId": "0180ca02-219d-4aeb-cabf-01403cef1395"
   },
   "outputs": [],
   "source": [
    "fig = plt.figure(figsize=(16, 17))\n",
    "axes = []\n",
    "path = '../data/images/non_georges'\n",
    "for i, img_name in zip(np.arange(1, 21), os.listdir(path)[:20]):\n",
    "    axes.append(fig.add_subplot(4, 5, i))\n",
    "    subplot_title = ('Image' + str(i))\n",
    "    axes[-1].set_title(subplot_title) \n",
    "    img_path = os.path.join(path, img_name)\n",
    "    img = cv2.imread(img_path)\n",
    "    img = cv2.cvtColor(img, cv2.COLOR_BGR2RGB)\n",
    "    plt.imshow(img)"
   ]
  },
  {
   "cell_type": "markdown",
   "metadata": {
    "id": "oviobTHiOW58"
   },
   "source": [
    "### Define training parameters"
   ]
  },
  {
   "cell_type": "code",
   "execution_count": 23,
   "metadata": {
    "id": "Fyc84qFcOW59"
   },
   "outputs": [],
   "source": [
    "params = {\n",
    "    'model': 'resnet50',\n",
    "    'device': torch.device('cuda' if torch.cuda.is_available() else 'cpu'),\n",
    "    'lr': 0.0005,\n",
    "    'batch_size': 64,\n",
    "    'num_workers': 16,\n",
    "    'num_epochs': 25,\n",
    "    'train_size': 0.7,\n",
    "    'feature_extract': False,\n",
    "    'num_classes': 2,\n",
    "    'input_size': 224,\n",
    "    'momentum': 0.9    \n",
    "}"
   ]
  },
  {
   "cell_type": "code",
   "execution_count": 24,
   "metadata": {
    "colab": {
     "base_uri": "https://localhost:8080/"
    },
    "id": "R1IZRIVrOW5-",
    "outputId": "c0bf81da-678e-486d-a1a3-121898cb68f9"
   },
   "outputs": [
    {
     "data": {
      "text/plain": [
       "<torch._C.Generator at 0x7f79ddc7cc60>"
      ]
     },
     "execution_count": 24,
     "metadata": {
      "tags": []
     },
     "output_type": "execute_result"
    }
   ],
   "source": [
    "random.seed(0)\n",
    "np.random.seed(0)\n",
    "torch.manual_seed(0)"
   ]
  },
  {
   "cell_type": "markdown",
   "metadata": {
    "id": "3y7nYXY6OW6A"
   },
   "source": [
    "### Define and initialize model"
   ]
  },
  {
   "cell_type": "markdown",
   "metadata": {
    "id": "8T-Tbpj9OW6A"
   },
   "source": [
    "Pretrained Resnet-50 + 1 extra fully connected layer. I freeze layers 1-6 in the total 10 layers of Resnet50. \n",
    "\n"
   ]
  },
  {
   "cell_type": "code",
   "execution_count": 25,
   "metadata": {
    "id": "R04M5-MBOW6B"
   },
   "outputs": [],
   "source": [
    "model = getattr(models, params['model'])(pretrained=True)\n",
    "\n",
    "if params['feature_extract']:\n",
    "    for param in model.parameters():\n",
    "        param.requires_grad = False\n",
    "else:\n",
    "    ct = 0\n",
    "    for child in model.children():\n",
    "        ct += 1\n",
    "        if ct < 7:\n",
    "            for param in child.parameters():\n",
    "                param.requires_grad = False\n",
    "\n",
    "num_ftrs = model.fc.in_features\n",
    "model.fc = nn.Linear(num_ftrs, num_ftrs)\n",
    "model = nn.Sequential(\n",
    "    model,\n",
    "    nn.ReLU(),\n",
    "    nn.Linear(num_ftrs, params['num_classes'])\n",
    ")\n",
    "model = model.to(params['device'])"
   ]
  },
  {
   "cell_type": "code",
   "execution_count": 26,
   "metadata": {
    "colab": {
     "base_uri": "https://localhost:8080/"
    },
    "id": "sgrs1MEmOW6B",
    "outputId": "f3611a2a-2931-4559-f28d-5d0f73277625"
   },
   "outputs": [
    {
     "name": "stdout",
     "output_type": "stream",
     "text": [
      "Sequential(\n",
      "  (0): ResNet(\n",
      "    (conv1): Conv2d(3, 64, kernel_size=(7, 7), stride=(2, 2), padding=(3, 3), bias=False)\n",
      "    (bn1): BatchNorm2d(64, eps=1e-05, momentum=0.1, affine=True, track_running_stats=True)\n",
      "    (relu): ReLU(inplace=True)\n",
      "    (maxpool): MaxPool2d(kernel_size=3, stride=2, padding=1, dilation=1, ceil_mode=False)\n",
      "    (layer1): Sequential(\n",
      "      (0): Bottleneck(\n",
      "        (conv1): Conv2d(64, 64, kernel_size=(1, 1), stride=(1, 1), bias=False)\n",
      "        (bn1): BatchNorm2d(64, eps=1e-05, momentum=0.1, affine=True, track_running_stats=True)\n",
      "        (conv2): Conv2d(64, 64, kernel_size=(3, 3), stride=(1, 1), padding=(1, 1), bias=False)\n",
      "        (bn2): BatchNorm2d(64, eps=1e-05, momentum=0.1, affine=True, track_running_stats=True)\n",
      "        (conv3): Conv2d(64, 256, kernel_size=(1, 1), stride=(1, 1), bias=False)\n",
      "        (bn3): BatchNorm2d(256, eps=1e-05, momentum=0.1, affine=True, track_running_stats=True)\n",
      "        (relu): ReLU(inplace=True)\n",
      "        (downsample): Sequential(\n",
      "          (0): Conv2d(64, 256, kernel_size=(1, 1), stride=(1, 1), bias=False)\n",
      "          (1): BatchNorm2d(256, eps=1e-05, momentum=0.1, affine=True, track_running_stats=True)\n",
      "        )\n",
      "      )\n",
      "      (1): Bottleneck(\n",
      "        (conv1): Conv2d(256, 64, kernel_size=(1, 1), stride=(1, 1), bias=False)\n",
      "        (bn1): BatchNorm2d(64, eps=1e-05, momentum=0.1, affine=True, track_running_stats=True)\n",
      "        (conv2): Conv2d(64, 64, kernel_size=(3, 3), stride=(1, 1), padding=(1, 1), bias=False)\n",
      "        (bn2): BatchNorm2d(64, eps=1e-05, momentum=0.1, affine=True, track_running_stats=True)\n",
      "        (conv3): Conv2d(64, 256, kernel_size=(1, 1), stride=(1, 1), bias=False)\n",
      "        (bn3): BatchNorm2d(256, eps=1e-05, momentum=0.1, affine=True, track_running_stats=True)\n",
      "        (relu): ReLU(inplace=True)\n",
      "      )\n",
      "      (2): Bottleneck(\n",
      "        (conv1): Conv2d(256, 64, kernel_size=(1, 1), stride=(1, 1), bias=False)\n",
      "        (bn1): BatchNorm2d(64, eps=1e-05, momentum=0.1, affine=True, track_running_stats=True)\n",
      "        (conv2): Conv2d(64, 64, kernel_size=(3, 3), stride=(1, 1), padding=(1, 1), bias=False)\n",
      "        (bn2): BatchNorm2d(64, eps=1e-05, momentum=0.1, affine=True, track_running_stats=True)\n",
      "        (conv3): Conv2d(64, 256, kernel_size=(1, 1), stride=(1, 1), bias=False)\n",
      "        (bn3): BatchNorm2d(256, eps=1e-05, momentum=0.1, affine=True, track_running_stats=True)\n",
      "        (relu): ReLU(inplace=True)\n",
      "      )\n",
      "    )\n",
      "    (layer2): Sequential(\n",
      "      (0): Bottleneck(\n",
      "        (conv1): Conv2d(256, 128, kernel_size=(1, 1), stride=(1, 1), bias=False)\n",
      "        (bn1): BatchNorm2d(128, eps=1e-05, momentum=0.1, affine=True, track_running_stats=True)\n",
      "        (conv2): Conv2d(128, 128, kernel_size=(3, 3), stride=(2, 2), padding=(1, 1), bias=False)\n",
      "        (bn2): BatchNorm2d(128, eps=1e-05, momentum=0.1, affine=True, track_running_stats=True)\n",
      "        (conv3): Conv2d(128, 512, kernel_size=(1, 1), stride=(1, 1), bias=False)\n",
      "        (bn3): BatchNorm2d(512, eps=1e-05, momentum=0.1, affine=True, track_running_stats=True)\n",
      "        (relu): ReLU(inplace=True)\n",
      "        (downsample): Sequential(\n",
      "          (0): Conv2d(256, 512, kernel_size=(1, 1), stride=(2, 2), bias=False)\n",
      "          (1): BatchNorm2d(512, eps=1e-05, momentum=0.1, affine=True, track_running_stats=True)\n",
      "        )\n",
      "      )\n",
      "      (1): Bottleneck(\n",
      "        (conv1): Conv2d(512, 128, kernel_size=(1, 1), stride=(1, 1), bias=False)\n",
      "        (bn1): BatchNorm2d(128, eps=1e-05, momentum=0.1, affine=True, track_running_stats=True)\n",
      "        (conv2): Conv2d(128, 128, kernel_size=(3, 3), stride=(1, 1), padding=(1, 1), bias=False)\n",
      "        (bn2): BatchNorm2d(128, eps=1e-05, momentum=0.1, affine=True, track_running_stats=True)\n",
      "        (conv3): Conv2d(128, 512, kernel_size=(1, 1), stride=(1, 1), bias=False)\n",
      "        (bn3): BatchNorm2d(512, eps=1e-05, momentum=0.1, affine=True, track_running_stats=True)\n",
      "        (relu): ReLU(inplace=True)\n",
      "      )\n",
      "      (2): Bottleneck(\n",
      "        (conv1): Conv2d(512, 128, kernel_size=(1, 1), stride=(1, 1), bias=False)\n",
      "        (bn1): BatchNorm2d(128, eps=1e-05, momentum=0.1, affine=True, track_running_stats=True)\n",
      "        (conv2): Conv2d(128, 128, kernel_size=(3, 3), stride=(1, 1), padding=(1, 1), bias=False)\n",
      "        (bn2): BatchNorm2d(128, eps=1e-05, momentum=0.1, affine=True, track_running_stats=True)\n",
      "        (conv3): Conv2d(128, 512, kernel_size=(1, 1), stride=(1, 1), bias=False)\n",
      "        (bn3): BatchNorm2d(512, eps=1e-05, momentum=0.1, affine=True, track_running_stats=True)\n",
      "        (relu): ReLU(inplace=True)\n",
      "      )\n",
      "      (3): Bottleneck(\n",
      "        (conv1): Conv2d(512, 128, kernel_size=(1, 1), stride=(1, 1), bias=False)\n",
      "        (bn1): BatchNorm2d(128, eps=1e-05, momentum=0.1, affine=True, track_running_stats=True)\n",
      "        (conv2): Conv2d(128, 128, kernel_size=(3, 3), stride=(1, 1), padding=(1, 1), bias=False)\n",
      "        (bn2): BatchNorm2d(128, eps=1e-05, momentum=0.1, affine=True, track_running_stats=True)\n",
      "        (conv3): Conv2d(128, 512, kernel_size=(1, 1), stride=(1, 1), bias=False)\n",
      "        (bn3): BatchNorm2d(512, eps=1e-05, momentum=0.1, affine=True, track_running_stats=True)\n",
      "        (relu): ReLU(inplace=True)\n",
      "      )\n",
      "    )\n",
      "    (layer3): Sequential(\n",
      "      (0): Bottleneck(\n",
      "        (conv1): Conv2d(512, 256, kernel_size=(1, 1), stride=(1, 1), bias=False)\n",
      "        (bn1): BatchNorm2d(256, eps=1e-05, momentum=0.1, affine=True, track_running_stats=True)\n",
      "        (conv2): Conv2d(256, 256, kernel_size=(3, 3), stride=(2, 2), padding=(1, 1), bias=False)\n",
      "        (bn2): BatchNorm2d(256, eps=1e-05, momentum=0.1, affine=True, track_running_stats=True)\n",
      "        (conv3): Conv2d(256, 1024, kernel_size=(1, 1), stride=(1, 1), bias=False)\n",
      "        (bn3): BatchNorm2d(1024, eps=1e-05, momentum=0.1, affine=True, track_running_stats=True)\n",
      "        (relu): ReLU(inplace=True)\n",
      "        (downsample): Sequential(\n",
      "          (0): Conv2d(512, 1024, kernel_size=(1, 1), stride=(2, 2), bias=False)\n",
      "          (1): BatchNorm2d(1024, eps=1e-05, momentum=0.1, affine=True, track_running_stats=True)\n",
      "        )\n",
      "      )\n",
      "      (1): Bottleneck(\n",
      "        (conv1): Conv2d(1024, 256, kernel_size=(1, 1), stride=(1, 1), bias=False)\n",
      "        (bn1): BatchNorm2d(256, eps=1e-05, momentum=0.1, affine=True, track_running_stats=True)\n",
      "        (conv2): Conv2d(256, 256, kernel_size=(3, 3), stride=(1, 1), padding=(1, 1), bias=False)\n",
      "        (bn2): BatchNorm2d(256, eps=1e-05, momentum=0.1, affine=True, track_running_stats=True)\n",
      "        (conv3): Conv2d(256, 1024, kernel_size=(1, 1), stride=(1, 1), bias=False)\n",
      "        (bn3): BatchNorm2d(1024, eps=1e-05, momentum=0.1, affine=True, track_running_stats=True)\n",
      "        (relu): ReLU(inplace=True)\n",
      "      )\n",
      "      (2): Bottleneck(\n",
      "        (conv1): Conv2d(1024, 256, kernel_size=(1, 1), stride=(1, 1), bias=False)\n",
      "        (bn1): BatchNorm2d(256, eps=1e-05, momentum=0.1, affine=True, track_running_stats=True)\n",
      "        (conv2): Conv2d(256, 256, kernel_size=(3, 3), stride=(1, 1), padding=(1, 1), bias=False)\n",
      "        (bn2): BatchNorm2d(256, eps=1e-05, momentum=0.1, affine=True, track_running_stats=True)\n",
      "        (conv3): Conv2d(256, 1024, kernel_size=(1, 1), stride=(1, 1), bias=False)\n",
      "        (bn3): BatchNorm2d(1024, eps=1e-05, momentum=0.1, affine=True, track_running_stats=True)\n",
      "        (relu): ReLU(inplace=True)\n",
      "      )\n",
      "      (3): Bottleneck(\n",
      "        (conv1): Conv2d(1024, 256, kernel_size=(1, 1), stride=(1, 1), bias=False)\n",
      "        (bn1): BatchNorm2d(256, eps=1e-05, momentum=0.1, affine=True, track_running_stats=True)\n",
      "        (conv2): Conv2d(256, 256, kernel_size=(3, 3), stride=(1, 1), padding=(1, 1), bias=False)\n",
      "        (bn2): BatchNorm2d(256, eps=1e-05, momentum=0.1, affine=True, track_running_stats=True)\n",
      "        (conv3): Conv2d(256, 1024, kernel_size=(1, 1), stride=(1, 1), bias=False)\n",
      "        (bn3): BatchNorm2d(1024, eps=1e-05, momentum=0.1, affine=True, track_running_stats=True)\n",
      "        (relu): ReLU(inplace=True)\n",
      "      )\n",
      "      (4): Bottleneck(\n",
      "        (conv1): Conv2d(1024, 256, kernel_size=(1, 1), stride=(1, 1), bias=False)\n",
      "        (bn1): BatchNorm2d(256, eps=1e-05, momentum=0.1, affine=True, track_running_stats=True)\n",
      "        (conv2): Conv2d(256, 256, kernel_size=(3, 3), stride=(1, 1), padding=(1, 1), bias=False)\n",
      "        (bn2): BatchNorm2d(256, eps=1e-05, momentum=0.1, affine=True, track_running_stats=True)\n",
      "        (conv3): Conv2d(256, 1024, kernel_size=(1, 1), stride=(1, 1), bias=False)\n",
      "        (bn3): BatchNorm2d(1024, eps=1e-05, momentum=0.1, affine=True, track_running_stats=True)\n",
      "        (relu): ReLU(inplace=True)\n",
      "      )\n",
      "      (5): Bottleneck(\n",
      "        (conv1): Conv2d(1024, 256, kernel_size=(1, 1), stride=(1, 1), bias=False)\n",
      "        (bn1): BatchNorm2d(256, eps=1e-05, momentum=0.1, affine=True, track_running_stats=True)\n",
      "        (conv2): Conv2d(256, 256, kernel_size=(3, 3), stride=(1, 1), padding=(1, 1), bias=False)\n",
      "        (bn2): BatchNorm2d(256, eps=1e-05, momentum=0.1, affine=True, track_running_stats=True)\n",
      "        (conv3): Conv2d(256, 1024, kernel_size=(1, 1), stride=(1, 1), bias=False)\n",
      "        (bn3): BatchNorm2d(1024, eps=1e-05, momentum=0.1, affine=True, track_running_stats=True)\n",
      "        (relu): ReLU(inplace=True)\n",
      "      )\n",
      "    )\n",
      "    (layer4): Sequential(\n",
      "      (0): Bottleneck(\n",
      "        (conv1): Conv2d(1024, 512, kernel_size=(1, 1), stride=(1, 1), bias=False)\n",
      "        (bn1): BatchNorm2d(512, eps=1e-05, momentum=0.1, affine=True, track_running_stats=True)\n",
      "        (conv2): Conv2d(512, 512, kernel_size=(3, 3), stride=(2, 2), padding=(1, 1), bias=False)\n",
      "        (bn2): BatchNorm2d(512, eps=1e-05, momentum=0.1, affine=True, track_running_stats=True)\n",
      "        (conv3): Conv2d(512, 2048, kernel_size=(1, 1), stride=(1, 1), bias=False)\n",
      "        (bn3): BatchNorm2d(2048, eps=1e-05, momentum=0.1, affine=True, track_running_stats=True)\n",
      "        (relu): ReLU(inplace=True)\n",
      "        (downsample): Sequential(\n",
      "          (0): Conv2d(1024, 2048, kernel_size=(1, 1), stride=(2, 2), bias=False)\n",
      "          (1): BatchNorm2d(2048, eps=1e-05, momentum=0.1, affine=True, track_running_stats=True)\n",
      "        )\n",
      "      )\n",
      "      (1): Bottleneck(\n",
      "        (conv1): Conv2d(2048, 512, kernel_size=(1, 1), stride=(1, 1), bias=False)\n",
      "        (bn1): BatchNorm2d(512, eps=1e-05, momentum=0.1, affine=True, track_running_stats=True)\n",
      "        (conv2): Conv2d(512, 512, kernel_size=(3, 3), stride=(1, 1), padding=(1, 1), bias=False)\n",
      "        (bn2): BatchNorm2d(512, eps=1e-05, momentum=0.1, affine=True, track_running_stats=True)\n",
      "        (conv3): Conv2d(512, 2048, kernel_size=(1, 1), stride=(1, 1), bias=False)\n",
      "        (bn3): BatchNorm2d(2048, eps=1e-05, momentum=0.1, affine=True, track_running_stats=True)\n",
      "        (relu): ReLU(inplace=True)\n",
      "      )\n",
      "      (2): Bottleneck(\n",
      "        (conv1): Conv2d(2048, 512, kernel_size=(1, 1), stride=(1, 1), bias=False)\n",
      "        (bn1): BatchNorm2d(512, eps=1e-05, momentum=0.1, affine=True, track_running_stats=True)\n",
      "        (conv2): Conv2d(512, 512, kernel_size=(3, 3), stride=(1, 1), padding=(1, 1), bias=False)\n",
      "        (bn2): BatchNorm2d(512, eps=1e-05, momentum=0.1, affine=True, track_running_stats=True)\n",
      "        (conv3): Conv2d(512, 2048, kernel_size=(1, 1), stride=(1, 1), bias=False)\n",
      "        (bn3): BatchNorm2d(2048, eps=1e-05, momentum=0.1, affine=True, track_running_stats=True)\n",
      "        (relu): ReLU(inplace=True)\n",
      "      )\n",
      "    )\n",
      "    (avgpool): AdaptiveAvgPool2d(output_size=(1, 1))\n",
      "    (fc): Linear(in_features=2048, out_features=2048, bias=True)\n",
      "  )\n",
      "  (1): ReLU()\n",
      "  (2): Linear(in_features=2048, out_features=2, bias=True)\n",
      ")\n"
     ]
    }
   ],
   "source": [
    "print(model)"
   ]
  },
  {
   "cell_type": "markdown",
   "metadata": {
    "id": "q1QzWB-0OW6C"
   },
   "source": [
    "### Setup transforms, datasets, and dataloaders"
   ]
  },
  {
   "cell_type": "code",
   "execution_count": 27,
   "metadata": {
    "id": "TmxxK52IOW6C"
   },
   "outputs": [],
   "source": [
    "class GeorgeVsNonGeorgeDataset(Dataset):\n",
    "    def __init__(self, images_filepaths, transform=None):\n",
    "        self.images_filepaths = images_filepaths\n",
    "        self.transform = transform\n",
    "\n",
    "    def __len__(self):\n",
    "        return len(self.images_filepaths)\n",
    "\n",
    "    def __getitem__(self, idx):\n",
    "        image_filepath = self.images_filepaths[idx]\n",
    "        image = cv2.imread(image_filepath)\n",
    "        image = cv2.cvtColor(image, cv2.COLOR_BGR2RGB)\n",
    "        if os.path.normpath(image_filepath).split(os.sep)[-2] == 'georges':\n",
    "            label = 1\n",
    "        else:\n",
    "            label = 0\n",
    "        if self.transform is not None:\n",
    "            image = self.transform(image=image)['image']\n",
    "        return image, label"
   ]
  },
  {
   "cell_type": "code",
   "execution_count": 28,
   "metadata": {
    "id": "yJ_1k0ziOW6G"
   },
   "outputs": [],
   "source": [
    "root_directory = '../data/images'\n",
    "\n",
    "geo_directory = os.path.join(root_directory, 'georges')\n",
    "nongeo_directory = os.path.join(root_directory, 'non_georges')\n",
    "\n",
    "geo_images_paths = sorted([os.path.join(geo_directory, f) for f in os.listdir(geo_directory)])\n",
    "nongeo_images_paths = sorted([os.path.join(nongeo_directory, f) for f in os.listdir(nongeo_directory)])\n",
    "images_paths = [*geo_images_paths, *nongeo_images_paths]\n",
    "\n",
    "num_imgs = len(images_paths)\n",
    "indices = list(range(num_imgs))\n",
    "class_names = ['non_georges', 'georges']\n",
    "\n",
    "np.random.shuffle(images_paths)\n",
    "\n",
    "split = int(params['train_size'] * num_imgs)\n",
    "split2 = int((split + num_imgs) / 2)\n",
    "train_paths, val_paths, test_paths = images_paths[:split], images_paths[split:split2], images_paths[split2:]"
   ]
  },
  {
   "cell_type": "code",
   "execution_count": 29,
   "metadata": {
    "id": "zvQPAP0YOW6I"
   },
   "outputs": [],
   "source": [
    "train_trans = A.Compose(\n",
    "    [\n",
    "        A.SmallestMaxSize(max_size=300),\n",
    "        A.ShiftScaleRotate(shift_limit=0.05, scale_limit=0.05, rotate_limit=15, p=0.5),\n",
    "        A.RandomCrop(height=params['input_size'], width=params['input_size']),\n",
    "        A.RGBShift(r_shift_limit=15, g_shift_limit=15, b_shift_limit=15, p=0.5),\n",
    "        A.RandomBrightnessContrast(p=0.5),\n",
    "        A.Normalize(mean=(0.485, 0.456, 0.406), std=(0.229, 0.224, 0.225)),\n",
    "        ToTensorV2(),\n",
    "    ]\n",
    ")\n",
    "\n",
    "val_trans = A.Compose(\n",
    "    [\n",
    "        A.SmallestMaxSize(max_size=300),\n",
    "        A.CenterCrop(height=params['input_size'], width=params['input_size']),\n",
    "        A.Normalize(mean=(0.485, 0.456, 0.406), std=(0.229, 0.224, 0.225)),\n",
    "        ToTensorV2(),\n",
    "    ]\n",
    ")\n",
    "\n",
    "train_data = GeorgeVsNonGeorgeDataset(images_filepaths=train_paths, transform=train_trans)\n",
    "val_data = GeorgeVsNonGeorgeDataset(images_filepaths=val_paths, transform=val_trans)\n",
    "test_data = GeorgeVsNonGeorgeDataset(images_filepaths=test_paths, transform=val_trans)\n",
    "\n",
    "dataloaders_dict = {'train' : DataLoader(\n",
    "    train_data, batch_size=params['batch_size'], shuffle=True, num_workers=params['num_workers']\n",
    "),\n",
    "                    'val': DataLoader(\n",
    "    val_data, batch_size=params['batch_size'], shuffle=False, num_workers=params['num_workers']\n",
    "),\n",
    "                    'test': DataLoader(\n",
    "    test_data, batch_size=params['batch_size'], shuffle=False, num_workers=params['num_workers']\n",
    ")\n",
    "                   }"
   ]
  },
  {
   "cell_type": "markdown",
   "metadata": {
    "id": "L5P5DZiAOW6J"
   },
   "source": [
    "### Create the optimizer and criterion"
   ]
  },
  {
   "cell_type": "code",
   "execution_count": 30,
   "metadata": {
    "id": "NU04JOVGOW6K"
   },
   "outputs": [],
   "source": [
    "params_to_update = []\n",
    "for name, param in model.named_parameters():\n",
    "    if param.requires_grad == True:\n",
    "        params_to_update.append(param)\n",
    "\n",
    "optimizer = optim.SGD(params_to_update, lr=params['lr'], momentum=params['momentum'])"
   ]
  },
  {
   "cell_type": "code",
   "execution_count": 31,
   "metadata": {
    "id": "aDfBUjZKOW6L"
   },
   "outputs": [],
   "source": [
    "criterion = nn.CrossEntropyLoss()"
   ]
  },
  {
   "cell_type": "markdown",
   "metadata": {
    "id": "gjvPZ-DYOW6L"
   },
   "source": [
    "### Train and evaluate"
   ]
  },
  {
   "cell_type": "code",
   "execution_count": 32,
   "metadata": {
    "id": "hfO7ep_JOW6O"
   },
   "outputs": [],
   "source": [
    "def train_model(model, dataloaders, criterion, optimizer, num_epochs=10):\n",
    "    since = time.time()\n",
    "\n",
    "    history = {\n",
    "        'train_acc': [],\n",
    "        'train_loss': [],\n",
    "        'val_acc': [],\n",
    "        'val_loss': []\n",
    "    }\n",
    "\n",
    "    best_model_wts = copy.deepcopy(model.state_dict())\n",
    "    best_acc = 0.0\n",
    "\n",
    "    for epoch in range(num_epochs):\n",
    "        print(f'Epoch {epoch + 1}/{num_epochs}')\n",
    "        print('-' * 10)\n",
    "\n",
    "        for phase in ['train', 'val']:\n",
    "            if phase == 'train':\n",
    "                model.train()\n",
    "            else:\n",
    "                model.eval()\n",
    "\n",
    "            running_loss = 0.0\n",
    "            running_corrects = 0\n",
    "\n",
    "            for inputs, labels in dataloaders[phase]:\n",
    "                inputs = inputs.to(params['device'])\n",
    "                labels = labels.to(params['device'])\n",
    "\n",
    "                optimizer.zero_grad()\n",
    "\n",
    "                with torch.set_grad_enabled(phase == 'train'):\n",
    "                    outputs = model(inputs)\n",
    "                    loss = criterion(outputs, labels)\n",
    "\n",
    "                    _, preds = torch.max(outputs, 1)\n",
    "\n",
    "                    if phase == 'train':\n",
    "                        loss.backward()\n",
    "                        optimizer.step()\n",
    "\n",
    "                # statistics\n",
    "                running_loss += loss.item() * inputs.size(0)\n",
    "                running_corrects += torch.sum(preds == labels.data)\n",
    "\n",
    "            epoch_loss = running_loss / len(dataloaders[phase].dataset)\n",
    "            epoch_acc = running_corrects.double() / len(dataloaders[phase].dataset)\n",
    "\n",
    "            print(f'{phase} Loss: {epoch_loss:.4f} Acc: {epoch_acc:.4f}')\n",
    "\n",
    "            if phase == 'val' and epoch_acc > best_acc:\n",
    "                best_acc = epoch_acc\n",
    "                best_model_wts = copy.deepcopy(model.state_dict())\n",
    "            if phase == 'train':\n",
    "                history['train_acc'].append(epoch_acc)\n",
    "                history['train_loss'].append(epoch_loss)\n",
    "            if phase == 'val':\n",
    "                history['val_acc'].append(epoch_acc)\n",
    "                history['val_loss'].append(epoch_loss)\n",
    "\n",
    "        print()\n",
    "\n",
    "    time_elapsed = time.time() - since\n",
    "    print(f'Training complete in {time_elapsed // 60:.0f}m {time_elapsed % 60:.0f}s')\n",
    "    print(f'Best val Acc: {best_acc:4f}')\n",
    "\n",
    "    model.load_state_dict(best_model_wts)\n",
    "    return model, history"
   ]
  },
  {
   "cell_type": "code",
   "execution_count": 33,
   "metadata": {
    "id": "oK6jJQ83OW6Y"
   },
   "outputs": [],
   "source": [
    "def visualize_images(model, num_images=6):\n",
    "    mean = np.array([0.485, 0.456, 0.406])\n",
    "    std =  np.array([0.229, 0.224, 0.225])\n",
    "    was_training = model.training\n",
    "    model.eval()\n",
    "    images_so_far = 0\n",
    "    fig = plt.figure(figsize=(16, 17))\n",
    "\n",
    "    with torch.no_grad():\n",
    "        for i, (inputs, labels) in enumerate(dataloaders_dict['test']):\n",
    "            inputs = inputs.to(params['device'])\n",
    "            labels = labels.to(params['device'])\n",
    "\n",
    "            outputs = model(inputs)\n",
    "            _, preds = torch.max(outputs, 1)\n",
    "\n",
    "            for j in range(inputs.size()[0]):\n",
    "                images_so_far += 1\n",
    "                ax = plt.subplot(num_images // 2, 2, images_so_far)\n",
    "                ax.axis('off')\n",
    "                ax.set_title(f'predicted: {class_names[preds[j]]}, true label: {class_names[labels[j]]}')\n",
    "                img = inputs.cpu().data[j].numpy().transpose((1, 2, 0)) * std + mean\n",
    "                img = np.clip(img, 0, 1)\n",
    "                plt.imshow(img)\n",
    "\n",
    "                if images_so_far == num_images:\n",
    "                    model.train(mode=was_training)\n",
    "                    return\n",
    "        model.train(mode=was_training)\n",
    "        \n",
    "def build_val_curves(hist):\n",
    "    epochs = np.arange(1, params['num_epochs'] + 1)\n",
    "    plt.figure()\n",
    "    plt.plot(epochs, hist['train_acc'], label='train')\n",
    "    plt.plot(epochs, hist['val_acc'], label='validation')\n",
    "    plt.grid()\n",
    "    plt.xlabel('epoch')\n",
    "    plt.ylabel('accuracy')\n",
    "    plt.title('model accuracy')\n",
    "    plt.legend()\n",
    "    plt.show()\n",
    "    plt.figure()\n",
    "    plt.plot(epochs, hist['train_loss'], label='train')\n",
    "    plt.plot(epochs, hist['val_loss'], label='validation')\n",
    "    plt.grid()\n",
    "    plt.xlabel('epoch')\n",
    "    plt.ylabel('model loss')\n",
    "    plt.title('loss curves')\n",
    "    plt.legend()\n",
    "    plt.show()"
   ]
  },
  {
   "cell_type": "code",
   "execution_count": 34,
   "metadata": {
    "colab": {
     "base_uri": "https://localhost:8080/"
    },
    "id": "ig0b7nqxOW6Z",
    "outputId": "04d04c79-1757-4bdb-8c1c-cd37aa6dfdec"
   },
   "outputs": [
    {
     "name": "stdout",
     "output_type": "stream",
     "text": [
      "Epoch 1/25\n",
      "----------\n",
      "train Loss: 0.6542 Acc: 0.6144\n",
      "val Loss: 0.5915 Acc: 0.7520\n",
      "\n",
      "Epoch 2/25\n",
      "----------\n",
      "train Loss: 0.5687 Acc: 0.7395\n",
      "val Loss: 0.5002 Acc: 0.8129\n",
      "\n",
      "Epoch 3/25\n",
      "----------\n",
      "train Loss: 0.4875 Acc: 0.7932\n",
      "val Loss: 0.4229 Acc: 0.8281\n",
      "\n",
      "Epoch 4/25\n",
      "----------\n",
      "train Loss: 0.4220 Acc: 0.8167\n",
      "val Loss: 0.3628 Acc: 0.8491\n",
      "\n",
      "Epoch 5/25\n",
      "----------\n",
      "train Loss: 0.3616 Acc: 0.8478\n",
      "val Loss: 0.3225 Acc: 0.8667\n",
      "\n",
      "Epoch 6/25\n",
      "----------\n",
      "train Loss: 0.3293 Acc: 0.8634\n",
      "val Loss: 0.2987 Acc: 0.8643\n",
      "\n",
      "Epoch 7/25\n",
      "----------\n",
      "train Loss: 0.2929 Acc: 0.8827\n",
      "val Loss: 0.2862 Acc: 0.8784\n",
      "\n",
      "Epoch 8/25\n",
      "----------\n",
      "train Loss: 0.2590 Acc: 0.8935\n",
      "val Loss: 0.2682 Acc: 0.8830\n",
      "\n",
      "Epoch 9/25\n",
      "----------\n",
      "train Loss: 0.2488 Acc: 0.9000\n",
      "val Loss: 0.2526 Acc: 0.8947\n",
      "\n",
      "Epoch 10/25\n",
      "----------\n",
      "train Loss: 0.2310 Acc: 0.9032\n",
      "val Loss: 0.2508 Acc: 0.8947\n",
      "\n",
      "Epoch 11/25\n",
      "----------\n",
      "train Loss: 0.2044 Acc: 0.9210\n",
      "val Loss: 0.2423 Acc: 0.8971\n",
      "\n",
      "Epoch 12/25\n",
      "----------\n",
      "train Loss: 0.1974 Acc: 0.9208\n",
      "val Loss: 0.2385 Acc: 0.9006\n",
      "\n",
      "Epoch 13/25\n",
      "----------\n",
      "train Loss: 0.1834 Acc: 0.9235\n",
      "val Loss: 0.2343 Acc: 0.9018\n",
      "\n",
      "Epoch 14/25\n",
      "----------\n",
      "train Loss: 0.1803 Acc: 0.9283\n",
      "val Loss: 0.2230 Acc: 0.9158\n",
      "\n",
      "Epoch 15/25\n",
      "----------\n",
      "train Loss: 0.1593 Acc: 0.9306\n",
      "val Loss: 0.2238 Acc: 0.9170\n",
      "\n",
      "Epoch 16/25\n",
      "----------\n",
      "train Loss: 0.1467 Acc: 0.9441\n",
      "val Loss: 0.2369 Acc: 0.9099\n",
      "\n",
      "Epoch 17/25\n",
      "----------\n",
      "train Loss: 0.1352 Acc: 0.9486\n",
      "val Loss: 0.2364 Acc: 0.9123\n",
      "\n",
      "Epoch 18/25\n",
      "----------\n",
      "train Loss: 0.1302 Acc: 0.9471\n",
      "val Loss: 0.2277 Acc: 0.9193\n",
      "\n",
      "Epoch 19/25\n",
      "----------\n",
      "train Loss: 0.1233 Acc: 0.9544\n",
      "val Loss: 0.2321 Acc: 0.9170\n",
      "\n",
      "Epoch 20/25\n",
      "----------\n",
      "train Loss: 0.1155 Acc: 0.9586\n",
      "val Loss: 0.2241 Acc: 0.9240\n",
      "\n",
      "Epoch 21/25\n",
      "----------\n",
      "train Loss: 0.1129 Acc: 0.9571\n",
      "val Loss: 0.2282 Acc: 0.9275\n",
      "\n",
      "Epoch 22/25\n",
      "----------\n",
      "train Loss: 0.1030 Acc: 0.9591\n",
      "val Loss: 0.2311 Acc: 0.9298\n",
      "\n",
      "Epoch 23/25\n",
      "----------\n",
      "train Loss: 0.0979 Acc: 0.9654\n",
      "val Loss: 0.2386 Acc: 0.9228\n",
      "\n",
      "Epoch 24/25\n",
      "----------\n",
      "train Loss: 0.0835 Acc: 0.9714\n",
      "val Loss: 0.2348 Acc: 0.9240\n",
      "\n",
      "Epoch 25/25\n",
      "----------\n",
      "train Loss: 0.0852 Acc: 0.9702\n",
      "val Loss: 0.2290 Acc: 0.9251\n",
      "\n",
      "Training complete in 28m 23s\n",
      "Best val Acc: 0.929825\n"
     ]
    }
   ],
   "source": [
    "model, hist = train_model(model, dataloaders_dict, criterion,\n",
    "                          optimizer, num_epochs=params['num_epochs']\n",
    "                         )"
   ]
  },
  {
   "cell_type": "code",
   "execution_count": 35,
   "metadata": {
    "colab": {
     "base_uri": "https://localhost:8080/"
    },
    "id": "XGTBRKKimv2o",
    "outputId": "1035e15c-41e1-4e7e-e3c0-818dceb88854"
   },
   "outputs": [
    {
     "name": "stdout",
     "output_type": "stream",
     "text": [
      "Accuracy of the network on test images: 90.88785046728972\n"
     ]
    }
   ],
   "source": [
    "correct = 0\n",
    "total = 0\n",
    "with torch.no_grad():\n",
    "    for data in dataloaders_dict['test']:\n",
    "        inputs, labels = data\n",
    "        inputs = inputs.to(params['device'])\n",
    "        labels = labels.to(params['device'])\n",
    "        outputs = model(inputs)\n",
    "        _, predicted = torch.max(outputs.data, 1)\n",
    "        total += labels.size(0)\n",
    "        correct += (predicted == labels).sum().item()\n",
    "\n",
    "print(f'Accuracy of the network on test images: {100 * correct / total}')"
   ]
  },
  {
   "cell_type": "code",
   "execution_count": null,
   "metadata": {
    "colab": {
     "base_uri": "https://localhost:8080/",
     "height": 971
    },
    "id": "zjhYLveIOW6f",
    "outputId": "aa584a37-b511-4a71-b9b6-abd5dea42852"
   },
   "outputs": [],
   "source": [
    "visualize_images(model, 12)"
   ]
  },
  {
   "cell_type": "code",
   "execution_count": 37,
   "metadata": {
    "colab": {
     "base_uri": "https://localhost:8080/",
     "height": 573
    },
    "id": "GNoFfdrSOW6f",
    "outputId": "41a7cae4-f2a6-4b1c-d20e-b018e8aa54e9"
   },
   "outputs": [
    {
     "data": {
      "image/png": "[encoded data removed]",
      "text/plain": [
       "<Figure size 432x288 with 1 Axes>"
      ]
     },
     "metadata": {
      "needs_background": "light",
      "tags": []
     },
     "output_type": "display_data"
    },
    {
     "data": {
      "image/png": "[encoded data removed]",
      "text/plain": [
       "<Figure size 432x288 with 1 Axes>"
      ]
     },
     "metadata": {
      "needs_background": "light",
      "tags": []
     },
     "output_type": "display_data"
    }
   ],
   "source": [
    "build_val_curves(hist)"
   ]
  },
  {
   "cell_type": "code",
   "execution_count": 38,
   "metadata": {
    "id": "dEmiFMDJOW6g"
   },
   "outputs": [],
   "source": [
    "torch.save(model.state_dict(), '../models/resnet50-half-trained.pt')"
   ]
  },
  {
   "cell_type": "code",
   "execution_count": null,
   "metadata": {
    "id": "oM_lsgX3OW6g"
   },
   "outputs": [],
   "source": []
  },
  {
   "cell_type": "code",
   "execution_count": null,
   "metadata": {
    "id": "FLeFMHQjUOrY"
   },
   "outputs": [],
   "source": []
  }
 ],
 "metadata": {
  "accelerator": "GPU",
  "colab": {
   "name": "1.1-vam-resnet50-augmentations.ipynb",
   "provenance": []
  },
  "kernelspec": {
   "display_name": "Python 3",
   "language": "python",
   "name": "python3"
  },
  "language_info": {
   "codemirror_mode": {
    "name": "ipython",
    "version": 3
   },
   "file_extension": ".py",
   "mimetype": "text/x-python",
   "name": "python",
   "nbconvert_exporter": "python",
   "pygments_lexer": "ipython3",
   "version": "3.9.1"
  }
 },
 "nbformat": 4,
 "nbformat_minor": 1
}
