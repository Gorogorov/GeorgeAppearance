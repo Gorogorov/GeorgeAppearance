{
 "cells": [
  {
   "cell_type": "code",
   "execution_count": 4,
   "metadata": {
    "id": "ADxxxTcNOW5I"
   },
   "outputs": [],
   "source": [
    "import os\n",
    "import copy\n",
    "import numpy as np\n",
    "import matplotlib.pyplot as plt\n",
    "%matplotlib inline\n",
    "import cv2\n",
    "import torch\n",
    "from torch.utils.data import DataLoader, Dataset\n",
    "import torchvision\n",
    "from torchvision import datasets, models, transforms\n",
    "import torch.nn as nn\n",
    "import torch.optim as optim\n",
    "import albumentations as A\n",
    "from albumentations.pytorch import ToTensorV2\n",
    "from efficientnet_pytorch import EfficientNet\n",
    "import random\n",
    "import time"
   ]
  },
  {
   "cell_type": "markdown",
   "metadata": {
    "id": "fZucfaUDOW50"
   },
   "source": [
    "### Load data"
   ]
  },
  {
   "cell_type": "code",
   "execution_count": 5,
   "metadata": {
    "id": "gzYcurw-OW51"
   },
   "outputs": [],
   "source": [
    "!wget --random-wait -i ../data/georges.csv -P ../data/images/georges\n",
    "!wget --random-wait -i ../data/non_georges.csv -P ../data/images/non_georges"
   ]
  },
  {
   "cell_type": "markdown",
   "metadata": {
    "id": "ehsRld8bOW52"
   },
   "source": [
    "#### Remove dublicates"
   ]
  },
  {
   "cell_type": "code",
   "execution_count": 6,
   "metadata": {
    "id": "iUinkFQeOW53"
   },
   "outputs": [],
   "source": [
    "!rm ../data/images/*/*.1\n",
    "!rm ../data/images/*/*.2\n",
    "!rm ../data/images/*/*.3"
   ]
  },
  {
   "cell_type": "markdown",
   "metadata": {
    "id": "82uDJDdPOW53"
   },
   "source": [
    "#### Visualize a few images"
   ]
  },
  {
   "cell_type": "code",
   "execution_count": null,
   "metadata": {
    "colab": {
     "base_uri": "https://localhost:8080/",
     "height": 988
    },
    "id": "O9Mjs6bxOW54",
    "outputId": "d8e06717-53dd-4cb8-9d07-0faf865ce2a7",
    "scrolled": true
   },
   "outputs": [],
   "source": [
    "fig = plt.figure(figsize=(16, 17))\n",
    "axes = []\n",
    "path = '../data/images/georges'\n",
    "for i, img_name in zip(np.arange(1, 21), os.listdir(path)[:20]):\n",
    "    axes.append(fig.add_subplot(4, 5, i))\n",
    "    subplot_title = ('Image' + str(i))\n",
    "    axes[-1].set_title(subplot_title) \n",
    "    img_path = os.path.join(path, img_name)\n",
    "    img = cv2.imread(img_path)\n",
    "    img = cv2.cvtColor(img, cv2.COLOR_BGR2RGB)\n",
    "    plt.imshow(img)"
   ]
  },
  {
   "cell_type": "code",
   "execution_count": null,
   "metadata": {
    "colab": {
     "base_uri": "https://localhost:8080/",
     "height": 988
    },
    "id": "XEcEp-mdOW56",
    "outputId": "4d27b26d-1890-4925-fd4b-825e648b34b7"
   },
   "outputs": [],
   "source": [
    "fig = plt.figure(figsize=(16, 17))\n",
    "axes = []\n",
    "path = '../data/images/non_georges'\n",
    "for i, img_name in zip(np.arange(1, 21), os.listdir(path)[:20]):\n",
    "    axes.append(fig.add_subplot(4, 5, i))\n",
    "    subplot_title = ('Image' + str(i))\n",
    "    axes[-1].set_title(subplot_title) \n",
    "    img_path = os.path.join(path, img_name)\n",
    "    img = cv2.imread(img_path)\n",
    "    img = cv2.cvtColor(img, cv2.COLOR_BGR2RGB)\n",
    "    plt.imshow(img)"
   ]
  },
  {
   "cell_type": "markdown",
   "metadata": {
    "id": "oviobTHiOW58"
   },
   "source": [
    "### Define training parameters"
   ]
  },
  {
   "cell_type": "code",
   "execution_count": 9,
   "metadata": {
    "id": "Fyc84qFcOW59"
   },
   "outputs": [],
   "source": [
    "eff_models = ['efficientnet-b0', 'efficientnet-b1', 'efficientnet-b2',\n",
    "          'efficientnet-b3', 'efficientnet-b4']\n",
    "eff_batch_sizes = [150, 100, 64, 50, 20]\n",
    "eff_image_sizes = [224, 240, 260, 300, 380]\n",
    "model_index = 2\n",
    "\n",
    "params = {\n",
    "    'model': eff_models[model_index],\n",
    "    'device': torch.device('cuda' if torch.cuda.is_available() else 'cpu'),\n",
    "    'lr': 0.00005,\n",
    "    'batch_size': eff_batch_sizes[model_index],\n",
    "    'num_workers': 4,\n",
    "    'num_epochs': 12,\n",
    "    'train_size': 0.7,\n",
    "    'num_classes': 2,\n",
    "    'input_size': eff_image_sizes[model_index]\n",
    "}"
   ]
  },
  {
   "cell_type": "markdown",
   "metadata": {
    "id": "Gf5pelGINGdU"
   },
   "source": [
    "Take care of reproducibility"
   ]
  },
  {
   "cell_type": "code",
   "execution_count": 10,
   "metadata": {
    "colab": {
     "base_uri": "https://localhost:8080/"
    },
    "id": "R1IZRIVrOW5-",
    "outputId": "fa4c9239-a226-4be1-e293-36b4cd2dea04"
   },
   "outputs": [
    {
     "data": {
      "text/plain": [
       "<torch._C.Generator at 0x7fecdafa3990>"
      ]
     },
     "execution_count": 10,
     "metadata": {
      "tags": []
     },
     "output_type": "execute_result"
    }
   ],
   "source": [
    "random.seed(0)\n",
    "np.random.seed(0)\n",
    "torch.manual_seed(0)"
   ]
  },
  {
   "cell_type": "markdown",
   "metadata": {
    "id": "3y7nYXY6OW6A"
   },
   "source": [
    "### Define and initialize model"
   ]
  },
  {
   "cell_type": "markdown",
   "metadata": {
    "id": "8T-Tbpj9OW6A"
   },
   "source": [
    "Pretrained Efficintnet-b2.\n",
    "\n"
   ]
  },
  {
   "cell_type": "code",
   "execution_count": 11,
   "metadata": {
    "colab": {
     "base_uri": "https://localhost:8080/"
    },
    "id": "q7jjbGzuAclr",
    "outputId": "d53ecdcc-4d4f-4b46-ec46-4bd7d7074901"
   },
   "outputs": [
    {
     "name": "stdout",
     "output_type": "stream",
     "text": [
      "Loaded pretrained weights for efficientnet-b2\n"
     ]
    }
   ],
   "source": [
    "model = EfficientNet.from_pretrained(params['model'])"
   ]
  },
  {
   "cell_type": "code",
   "execution_count": 12,
   "metadata": {
    "id": "9XqSFFIXAkl8"
   },
   "outputs": [],
   "source": [
    "num_ftrs = model._fc.in_features\n",
    "model._fc = nn.Linear(num_ftrs, params['num_classes'])\n",
    "\n",
    "for param in model.parameters():\n",
    "    param.require_grad = True\n",
    "\n",
    "model = model.to(params['device'])"
   ]
  },
  {
   "cell_type": "code",
   "execution_count": null,
   "metadata": {
    "colab": {
     "base_uri": "https://localhost:8080/"
    },
    "id": "sgrs1MEmOW6B",
    "outputId": "c5d1c78a-b28a-49d9-df89-760d4e35f086"
   },
   "outputs": [],
   "source": [
    "print(model)"
   ]
  },
  {
   "cell_type": "markdown",
   "metadata": {
    "id": "q1QzWB-0OW6C"
   },
   "source": [
    "### Setup transforms, datasets, and dataloaders"
   ]
  },
  {
   "cell_type": "code",
   "execution_count": 14,
   "metadata": {
    "id": "TmxxK52IOW6C"
   },
   "outputs": [],
   "source": [
    "class GeorgeVsNonGeorgeDataset(Dataset):\n",
    "    def __init__(self, images_filepaths, transform=None):\n",
    "        self.images_filepaths = images_filepaths\n",
    "        self.transform = transform\n",
    "\n",
    "    def __len__(self):\n",
    "        return len(self.images_filepaths)\n",
    "\n",
    "    def __getitem__(self, idx):\n",
    "        image_filepath = self.images_filepaths[idx]\n",
    "        image = cv2.imread(image_filepath)\n",
    "        image = cv2.cvtColor(image, cv2.COLOR_BGR2RGB)\n",
    "        if os.path.normpath(image_filepath).split(os.sep)[-2] == 'georges':\n",
    "            label = 1\n",
    "        else:\n",
    "            label = 0\n",
    "        if self.transform is not None:\n",
    "            image = self.transform(image=image)['image']\n",
    "        return image, label"
   ]
  },
  {
   "cell_type": "code",
   "execution_count": 15,
   "metadata": {
    "id": "yJ_1k0ziOW6G"
   },
   "outputs": [],
   "source": [
    "root_directory = '../data/images'\n",
    "\n",
    "geo_directory = os.path.join(root_directory, 'georges')\n",
    "nongeo_directory = os.path.join(root_directory, 'non_georges')\n",
    "\n",
    "geo_images_paths = sorted([os.path.join(geo_directory, f) for f in os.listdir(geo_directory)])\n",
    "nongeo_images_paths = sorted([os.path.join(nongeo_directory, f) for f in os.listdir(nongeo_directory)])\n",
    "images_paths = [*geo_images_paths, *nongeo_images_paths]\n",
    "\n",
    "num_imgs = len(images_paths)\n",
    "indices = list(range(num_imgs))\n",
    "class_names = ['non_georges', 'georges']\n",
    "\n",
    "np.random.shuffle(images_paths)\n",
    "\n",
    "split = int(params['train_size'] * num_imgs)\n",
    "split2 = int((split + num_imgs) / 2)\n",
    "train_paths, val_paths, test_paths = images_paths[:split], images_paths[split:split2], images_paths[split2:]"
   ]
  },
  {
   "cell_type": "code",
   "execution_count": null,
   "metadata": {
    "id": "zvQPAP0YOW6I"
   },
   "outputs": [],
   "source": [
    "train_trans = A.Compose(\n",
    "    [\n",
    "        A.ShiftScaleRotate(shift_limit=0.2, scale_limit=0.2, rotate_limit=40, p=0.5),\n",
    "        A.HorizontalFlip(p=0.5),\n",
    "        A.RGBShift(r_shift_limit=25, g_shift_limit=25, b_shift_limit=25, p=0.3),\n",
    "        A.RandomBrightnessContrast(p=0.3),\n",
    "        A.Blur(p=0.3),\n",
    "        A.Cutout(8, p=0.3),\n",
    "        A.SmallestMaxSize(max_size=params['input_size'] + 5),\n",
    "        A.RandomCrop(height=params['input_size'], width=params['input_size']),\n",
    "        A.Normalize(mean=(0.485, 0.456, 0.406), std=(0.229, 0.224, 0.225)),\n",
    "        ToTensorV2()\n",
    "    ]\n",
    ")\n",
    "\n",
    "val_trans = A.Compose(\n",
    "    [\n",
    "        A.SmallestMaxSize(max_size=params['input_size'] + 5),\n",
    "        A.CenterCrop(height=params['input_size'], width=params['input_size']),\n",
    "        A.Normalize(mean=(0.485, 0.456, 0.406), std=(0.229, 0.224, 0.225)),\n",
    "        ToTensorV2()\n",
    "    ]\n",
    ")\n",
    "\n",
    "train_data = GeorgeVsNonGeorgeDataset(images_filepaths=train_paths, transform=train_trans)\n",
    "val_data = GeorgeVsNonGeorgeDataset(images_filepaths=val_paths, transform=val_trans)\n",
    "test_data = GeorgeVsNonGeorgeDataset(images_filepaths=test_paths, transform=val_trans)\n",
    "\n",
    "dataloaders_dict = {'train' : DataLoader(\n",
    "    train_data, batch_size=params['batch_size'], shuffle=True, num_workers=params['num_workers']\n",
    "),\n",
    "                    'val': DataLoader(\n",
    "    val_data, batch_size=params['batch_size'], shuffle=False, num_workers=params['num_workers']\n",
    "),\n",
    "                    'test': DataLoader(\n",
    "    test_data, batch_size=params['batch_size'], shuffle=False, num_workers=params['num_workers']\n",
    ")\n",
    "                   }"
   ]
  },
  {
   "cell_type": "markdown",
   "metadata": {
    "id": "L5P5DZiAOW6J"
   },
   "source": [
    "### Create the optimizer and criterion"
   ]
  },
  {
   "cell_type": "code",
   "execution_count": 17,
   "metadata": {
    "id": "NU04JOVGOW6K"
   },
   "outputs": [],
   "source": [
    "params_to_update = []\n",
    "for name, param in model.named_parameters():\n",
    "    if param.requires_grad == True:\n",
    "        params_to_update.append(param)\n",
    "\n",
    "optimizer = optim.Adam(params_to_update, lr=params['lr'])\n",
    "scheduler = optim.lr_scheduler.ReduceLROnPlateau(optimizer, patience=1, cooldown=1)"
   ]
  },
  {
   "cell_type": "code",
   "execution_count": 18,
   "metadata": {
    "id": "aDfBUjZKOW6L"
   },
   "outputs": [],
   "source": [
    "criterion = nn.CrossEntropyLoss()"
   ]
  },
  {
   "cell_type": "markdown",
   "metadata": {
    "id": "gjvPZ-DYOW6L"
   },
   "source": [
    "### Train and evaluate"
   ]
  },
  {
   "cell_type": "code",
   "execution_count": 19,
   "metadata": {
    "id": "hfO7ep_JOW6O"
   },
   "outputs": [],
   "source": [
    "def get_lr(optimizer):\n",
    "    for param_group in optimizer.param_groups:\n",
    "        return param_group['lr']\n",
    "\n",
    "def train_model(model, dataloaders, criterion, optimizer, lr_scheduler, num_epochs=10):\n",
    "    since = time.time()\n",
    "\n",
    "    history = {\n",
    "        'train_acc': [],\n",
    "        'train_loss': [],\n",
    "        'val_acc': [],\n",
    "        'val_loss': [],\n",
    "        'lr': []\n",
    "    }\n",
    "\n",
    "    best_model_wts = copy.deepcopy(model.state_dict())\n",
    "    best_acc = 0.0\n",
    "\n",
    "    for epoch in range(num_epochs):\n",
    "        print(f'Epoch {epoch + 1}/{num_epochs}')\n",
    "        print('-' * 10)\n",
    "\n",
    "        for phase in ['train', 'val']:\n",
    "            if phase == 'train':\n",
    "                model.train()\n",
    "            else:\n",
    "                model.eval()\n",
    "\n",
    "            running_loss = 0.0\n",
    "            running_corrects = 0\n",
    "\n",
    "            for inputs, labels in dataloaders[phase]:\n",
    "                inputs = inputs.to(params['device'])\n",
    "                labels = labels.to(params['device'])\n",
    "\n",
    "                optimizer.zero_grad()\n",
    "\n",
    "                with torch.set_grad_enabled(phase == 'train'):\n",
    "                    outputs = model(inputs)\n",
    "                    loss = criterion(outputs, labels)\n",
    "\n",
    "                    _, preds = torch.max(outputs, 1)\n",
    "\n",
    "                    if phase == 'train':\n",
    "                        loss.backward()\n",
    "                        optimizer.step()\n",
    "\n",
    "                # statistics\n",
    "                running_loss += loss.item() * inputs.size(0)\n",
    "                running_corrects += torch.sum(preds == labels.data)\n",
    "            \n",
    "            epoch_loss = running_loss / len(dataloaders[phase].dataset)\n",
    "            epoch_acc = running_corrects.double() / len(dataloaders[phase].dataset)\n",
    "\n",
    "            print(f'{phase} Loss: {epoch_loss:.4f} Acc: {epoch_acc:.4f}')\n",
    "\n",
    "            if phase == 'val' and epoch_acc > best_acc:\n",
    "                best_acc = epoch_acc\n",
    "                best_model_wts = copy.deepcopy(model.state_dict())\n",
    "            if phase == 'train':\n",
    "                history['train_acc'].append(epoch_acc)\n",
    "                history['train_loss'].append(epoch_loss)\n",
    "            if phase == 'val':\n",
    "                history['val_acc'].append(epoch_acc)\n",
    "                history['val_loss'].append(epoch_loss)\n",
    "        \n",
    "        history['lr'].append(get_lr(optimizer))\n",
    "        lr_scheduler.step(epoch_loss)\n",
    "\n",
    "        print()\n",
    "\n",
    "    time_elapsed = time.time() - since\n",
    "    print(f'Training complete in {time_elapsed // 60:.0f}m {time_elapsed % 60:.0f}s')\n",
    "    print(f'Best val Acc: {best_acc:4f}')\n",
    "\n",
    "    model.load_state_dict(best_model_wts)\n",
    "    return model, history"
   ]
  },
  {
   "cell_type": "code",
   "execution_count": 20,
   "metadata": {
    "id": "oK6jJQ83OW6Y"
   },
   "outputs": [],
   "source": [
    "def visualize_images(model, num_images=6):\n",
    "    mean = np.array([0.485, 0.456, 0.406])\n",
    "    std =  np.array([0.229, 0.224, 0.225])\n",
    "    was_training = model.training\n",
    "    model.eval()\n",
    "    images_so_far = 0\n",
    "    fig = plt.figure(figsize=(16, 17))\n",
    "\n",
    "    with torch.no_grad():\n",
    "        for i, (inputs, labels) in enumerate(dataloaders_dict['test']):\n",
    "            inputs = inputs.to(params['device'])\n",
    "            labels = labels.to(params['device'])\n",
    "\n",
    "            outputs = model(inputs)\n",
    "            _, preds = torch.max(outputs, 1)\n",
    "\n",
    "            for j in range(inputs.size()[0]):\n",
    "                images_so_far += 1\n",
    "                ax = plt.subplot(num_images // 2, 2, images_so_far)\n",
    "                ax.axis('off')\n",
    "                ax.set_title(f'predicted: {class_names[preds[j]]}, true label: {class_names[labels[j]]}')\n",
    "                img = inputs.cpu().data[j].numpy().transpose((1, 2, 0)) * std + mean\n",
    "                img = np.clip(img, 0, 1)\n",
    "                plt.imshow(img)\n",
    "\n",
    "                if images_so_far == num_images:\n",
    "                    model.train(mode=was_training)\n",
    "                    return\n",
    "        model.train(mode=was_training)\n",
    "        \n",
    "def build_val_curves(hist):\n",
    "    epochs = np.arange(1, params['num_epochs'] + 1)\n",
    "    plt.figure(figsize=(25, 6))\n",
    "    plt.subplot(1, 3, 1)\n",
    "    plt.plot(epochs, hist['train_acc'], '-k', label='train')\n",
    "    plt.plot(epochs, hist['val_acc'], '-r', label='validation')\n",
    "    plt.grid()\n",
    "    plt.xlabel('epoch')\n",
    "    plt.ylabel('accuracy')\n",
    "    plt.title('model accuracy')\n",
    "    plt.legend()\n",
    "    plt.subplot(1, 3, 2)\n",
    "    plt.plot(epochs, hist['train_loss'], '-k', label='train')\n",
    "    plt.plot(epochs, hist['val_loss'], '-r', label='validation')\n",
    "    plt.grid()\n",
    "    plt.xlabel('epoch')\n",
    "    plt.ylabel('model loss')\n",
    "    plt.title('loss curves')\n",
    "    plt.legend()\n",
    "    plt.subplot(1, 3, 3)\n",
    "    plt.plot(epochs, hist['lr'], '-k')\n",
    "    plt.grid()\n",
    "    plt.xlabel('epoch')\n",
    "    plt.ylabel('learing rate')\n",
    "    plt.title('model learning rate')\n",
    "    plt.legend()\n",
    "    "
   ]
  },
  {
   "cell_type": "code",
   "execution_count": 21,
   "metadata": {
    "colab": {
     "base_uri": "https://localhost:8080/"
    },
    "id": "ig0b7nqxOW6Z",
    "outputId": "338f5356-4fea-4022-e371-d64ad27a684a"
   },
   "outputs": [
    {
     "name": "stdout",
     "output_type": "stream",
     "text": [
      "Epoch 1/12\n",
      "----------\n",
      "train Loss: 0.6129 Acc: 0.6904\n",
      "val Loss: 0.5348 Acc: 0.7404\n",
      "\n",
      "Epoch 2/12\n",
      "----------\n",
      "train Loss: 0.4270 Acc: 0.8225\n",
      "val Loss: 0.3337 Acc: 0.8678\n",
      "\n",
      "Epoch 3/12\n",
      "----------\n",
      "train Loss: 0.3146 Acc: 0.8681\n",
      "val Loss: 0.2471 Acc: 0.9029\n",
      "\n",
      "Epoch 4/12\n",
      "----------\n",
      "train Loss: 0.2578 Acc: 0.9000\n",
      "val Loss: 0.2046 Acc: 0.9251\n",
      "\n",
      "Epoch 5/12\n",
      "----------\n",
      "train Loss: 0.2214 Acc: 0.9140\n",
      "val Loss: 0.2034 Acc: 0.9205\n",
      "\n",
      "Epoch 6/12\n",
      "----------\n",
      "train Loss: 0.1984 Acc: 0.9238\n",
      "val Loss: 0.1892 Acc: 0.9298\n",
      "\n",
      "Epoch 7/12\n",
      "----------\n",
      "train Loss: 0.1721 Acc: 0.9366\n",
      "val Loss: 0.1767 Acc: 0.9415\n",
      "\n",
      "Epoch 8/12\n",
      "----------\n",
      "train Loss: 0.1479 Acc: 0.9423\n",
      "val Loss: 0.1722 Acc: 0.9357\n",
      "\n",
      "Epoch 9/12\n",
      "----------\n",
      "train Loss: 0.1382 Acc: 0.9476\n",
      "val Loss: 0.1735 Acc: 0.9380\n",
      "\n",
      "Epoch 10/12\n",
      "----------\n",
      "train Loss: 0.1177 Acc: 0.9524\n",
      "val Loss: 0.1689 Acc: 0.9462\n",
      "\n",
      "Epoch 11/12\n",
      "----------\n",
      "train Loss: 0.1096 Acc: 0.9566\n",
      "val Loss: 0.1870 Acc: 0.9333\n",
      "\n",
      "Epoch 12/12\n",
      "----------\n",
      "train Loss: 0.1039 Acc: 0.9616\n",
      "val Loss: 0.1883 Acc: 0.9287\n",
      "\n",
      "Training complete in 17m 25s\n",
      "Best val Acc: 0.946199\n"
     ]
    }
   ],
   "source": [
    "model, hist = train_model(model, dataloaders_dict, criterion, optimizer,\n",
    "                          scheduler, num_epochs=params['num_epochs']\n",
    "                         )"
   ]
  },
  {
   "cell_type": "markdown",
   "metadata": {
    "id": "ZW8T1YJSPvTa"
   },
   "source": [
    "### Predict labels and visualize curves\n",
    "\n"
   ]
  },
  {
   "cell_type": "code",
   "execution_count": 24,
   "metadata": {
    "colab": {
     "base_uri": "https://localhost:8080/"
    },
    "id": "XGTBRKKimv2o",
    "outputId": "74475b3e-1008-465d-b350-378d25e2f976"
   },
   "outputs": [
    {
     "name": "stdout",
     "output_type": "stream",
     "text": [
      "Accuracy of the network on test images: 93.80841121495327\n"
     ]
    }
   ],
   "source": [
    "correct = 0\n",
    "total = 0\n",
    "with torch.no_grad():\n",
    "    for data in dataloaders_dict['test']:\n",
    "        inputs, labels = data\n",
    "        inputs = inputs.to(params['device'])\n",
    "        labels = labels.to(params['device'])\n",
    "        outputs = model(inputs)\n",
    "        _, predicted = torch.max(outputs.data, 1)\n",
    "        total += labels.size(0)\n",
    "        correct += (predicted == labels).sum().item()\n",
    "\n",
    "print(f'Accuracy of the network on test images: {100 * correct / total}')"
   ]
  },
  {
   "cell_type": "code",
   "execution_count": null,
   "metadata": {
    "colab": {
     "base_uri": "https://localhost:8080/",
     "height": 971
    },
    "id": "zjhYLveIOW6f",
    "outputId": "960f7f72-457b-4de5-a069-f06fc4118b77",
    "scrolled": true
   },
   "outputs": [],
   "source": [
    "visualize_images(model, 12)"
   ]
  },
  {
   "cell_type": "code",
   "execution_count": 26,
   "metadata": {
    "colab": {
     "base_uri": "https://localhost:8080/",
     "height": 285
    },
    "id": "GNoFfdrSOW6f",
    "outputId": "8c885cf4-6ec8-4b75-e11d-e9a583bd685e"
   },
   "outputs": [
    {
     "name": "stderr",
     "output_type": "stream",
     "text": [
      "No handles with labels found to put in legend.\n"
     ]
    },
    {
     "data": {
      "image/png": "[encoded data removed]",
      "text/plain": [
       "<Figure size 1800x432 with 3 Axes>"
      ]
     },
     "metadata": {
      "needs_background": "light",
      "tags": []
     },
     "output_type": "display_data"
    }
   ],
   "source": [
    "build_val_curves(hist)"
   ]
  },
  {
   "cell_type": "code",
   "execution_count": 27,
   "metadata": {
    "id": "dEmiFMDJOW6g"
   },
   "outputs": [],
   "source": [
    "torch.save(model.state_dict(), '../models/eff-net-b2-fine-tuning.pt')"
   ]
  },
  {
   "cell_type": "code",
   "execution_count": null,
   "metadata": {
    "id": "oM_lsgX3OW6g"
   },
   "outputs": [],
   "source": []
  },
  {
   "cell_type": "code",
   "execution_count": null,
   "metadata": {
    "id": "FLeFMHQjUOrY"
   },
   "outputs": [],
   "source": []
  }
 ],
 "metadata": {
  "accelerator": "GPU",
  "colab": {
   "collapsed_sections": [],
   "name": "1.1-vam-resnet50-augmentations.ipynb",
   "provenance": [],
   "toc_visible": true
  },
  "kernelspec": {
   "display_name": "Python 3",
   "language": "python",
   "name": "python3"
  },
  "language_info": {
   "codemirror_mode": {
    "name": "ipython",
    "version": 3
   },
   "file_extension": ".py",
   "mimetype": "text/x-python",
   "name": "python",
   "nbconvert_exporter": "python",
   "pygments_lexer": "ipython3",
   "version": "3.9.1"
  }
 },
 "nbformat": 4,
 "nbformat_minor": 1
}
