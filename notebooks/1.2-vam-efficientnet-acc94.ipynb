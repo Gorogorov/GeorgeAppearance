{
 "cells": [
  {
   "cell_type": "code",
   "execution_count": 5,
   "metadata": {
    "id": "ADxxxTcNOW5I"
   },
   "outputs": [],
   "source": [
    "import os\n",
    "import copy\n",
    "import numpy as np\n",
    "import matplotlib.pyplot as plt\n",
    "%matplotlib inline\n",
    "import cv2\n",
    "import torch\n",
    "from torch.utils.data import DataLoader, Dataset\n",
    "import torchvision\n",
    "from torchvision import datasets, models, transforms\n",
    "import torch.nn as nn\n",
    "import torch.optim as optim\n",
    "import albumentations as A\n",
    "from albumentations.pytorch import ToTensorV2\n",
    "from efficientnet_pytorch import EfficientNet\n",
    "import random\n",
    "import time"
   ]
  },
  {
   "cell_type": "markdown",
   "metadata": {
    "id": "fZucfaUDOW50"
   },
   "source": [
    "### Load data"
   ]
  },
  {
   "cell_type": "code",
   "execution_count": null,
   "metadata": {
    "colab": {
     "base_uri": "https://localhost:8080/"
    },
    "id": "gzYcurw-OW51",
    "outputId": "4f4983de-eb50-477c-edc8-5aeaf427319b"
   },
   "outputs": [],
   "source": [
    "!wget --random-wait -i ../data/georges.csv -P ../data/images/georges\n",
    "!wget --random-wait -i ../data/non_georges.csv -P ../data/images/non_georges"
   ]
  },
  {
   "cell_type": "markdown",
   "metadata": {
    "id": "ehsRld8bOW52"
   },
   "source": [
    "#### Remove dublicates"
   ]
  },
  {
   "cell_type": "code",
   "execution_count": null,
   "metadata": {
    "colab": {
     "base_uri": "https://localhost:8080/"
    },
    "id": "iUinkFQeOW53",
    "outputId": "1768e015-add7-4891-b8b4-db96918e8fe4"
   },
   "outputs": [],
   "source": [
    "!rm ../data/images/*/*.1\n",
    "!rm ../data/images/*/*.2\n",
    "!rm ../data/images/*/*.3"
   ]
  },
  {
   "cell_type": "markdown",
   "metadata": {
    "id": "82uDJDdPOW53"
   },
   "source": [
    "#### Visualize a few images"
   ]
  },
  {
   "cell_type": "code",
   "execution_count": null,
   "metadata": {
    "colab": {
     "base_uri": "https://localhost:8080/",
     "height": 988
    },
    "id": "O9Mjs6bxOW54",
    "outputId": "9ca11be7-c4e2-4598-e925-a503d06b8bec"
   },
   "outputs": [],
   "source": [
    "fig = plt.figure(figsize=(16, 17))\n",
    "axes = []\n",
    "path = '../data/images/georges'\n",
    "for i, img_name in zip(np.arange(1, 21), os.listdir(path)[:20]):\n",
    "    axes.append(fig.add_subplot(4, 5, i))\n",
    "    subplot_title = ('Image' + str(i))\n",
    "    axes[-1].set_title(subplot_title) \n",
    "    img_path = os.path.join(path, img_name)\n",
    "    img = cv2.imread(img_path)\n",
    "    img = cv2.cvtColor(img, cv2.COLOR_BGR2RGB)\n",
    "    plt.imshow(img)"
   ]
  },
  {
   "cell_type": "code",
   "execution_count": null,
   "metadata": {
    "colab": {
     "base_uri": "https://localhost:8080/",
     "height": 988
    },
    "id": "XEcEp-mdOW56",
    "outputId": "da2cb3f9-00c9-4051-8755-44e4c7af9a22"
   },
   "outputs": [],
   "source": [
    "fig = plt.figure(figsize=(16, 17))\n",
    "axes = []\n",
    "path = '../data/images/non_georges'\n",
    "for i, img_name in zip(np.arange(1, 21), os.listdir(path)[:20]):\n",
    "    axes.append(fig.add_subplot(4, 5, i))\n",
    "    subplot_title = ('Image' + str(i))\n",
    "    axes[-1].set_title(subplot_title) \n",
    "    img_path = os.path.join(path, img_name)\n",
    "    img = cv2.imread(img_path)\n",
    "    img = cv2.cvtColor(img, cv2.COLOR_BGR2RGB)\n",
    "    plt.imshow(img)"
   ]
  },
  {
   "cell_type": "markdown",
   "metadata": {
    "id": "oviobTHiOW58"
   },
   "source": [
    "### Define training parameters"
   ]
  },
  {
   "cell_type": "code",
   "execution_count": 37,
   "metadata": {
    "id": "Fyc84qFcOW59"
   },
   "outputs": [],
   "source": [
    "params = {\n",
    "    'model': 'efficientnet-b1',\n",
    "    'device': torch.device('cuda' if torch.cuda.is_available() else 'cpu'),\n",
    "    'lr': 0.0005,\n",
    "    'batch_size': 100,\n",
    "    'num_workers': 8,\n",
    "    'num_epochs': 15,\n",
    "    'train_size': 0.7,\n",
    "    'feature_extract': False,\n",
    "    'num_classes': 2,\n",
    "    'input_size': 240,\n",
    "    'momentum': 0.9,\n",
    "    'patience': 3\n",
    "}"
   ]
  },
  {
   "cell_type": "code",
   "execution_count": 38,
   "metadata": {
    "colab": {
     "base_uri": "https://localhost:8080/"
    },
    "id": "R1IZRIVrOW5-",
    "outputId": "30b8040f-067a-4f46-84de-eecb906a8990"
   },
   "outputs": [
    {
     "data": {
      "text/plain": [
       "<torch._C.Generator at 0x7f52a8d61a10>"
      ]
     },
     "execution_count": 38,
     "metadata": {
      "tags": []
     },
     "output_type": "execute_result"
    }
   ],
   "source": [
    "random.seed(0)\n",
    "np.random.seed(0)\n",
    "torch.manual_seed(0)"
   ]
  },
  {
   "cell_type": "markdown",
   "metadata": {
    "id": "3y7nYXY6OW6A"
   },
   "source": [
    "### Define and initialize model"
   ]
  },
  {
   "cell_type": "markdown",
   "metadata": {
    "id": "8T-Tbpj9OW6A"
   },
   "source": [
    "Pretrained Resnet-50 + 1 extra fully connected layer. I freeze layers 1-6 in the total 10 layers of Resnet50. \n",
    "\n"
   ]
  },
  {
   "cell_type": "code",
   "execution_count": 39,
   "metadata": {
    "colab": {
     "base_uri": "https://localhost:8080/"
    },
    "id": "q7jjbGzuAclr",
    "outputId": "adb66539-13d6-4cd3-d1c5-99736dfeffbb"
   },
   "outputs": [
    {
     "name": "stdout",
     "output_type": "stream",
     "text": [
      "Loaded pretrained weights for efficientnet-b1\n"
     ]
    }
   ],
   "source": [
    "model = EfficientNet.from_pretrained(params['model'])"
   ]
  },
  {
   "cell_type": "code",
   "execution_count": 40,
   "metadata": {
    "id": "9XqSFFIXAkl8"
   },
   "outputs": [],
   "source": [
    "num_ftrs = model._fc.in_features\n",
    "linear_layers = nn.Sequential(\n",
    "                nn.BatchNorm1d(num_features=num_ftrs),    \n",
    "                nn.Linear(num_ftrs, 512),\n",
    "                nn.ReLU(),\n",
    "                nn.BatchNorm1d(512),\n",
    "                nn.Dropout(0.6),\n",
    "                nn.Linear(512, 128),\n",
    "                nn.ReLU(),\n",
    "                nn.BatchNorm1d(num_features=128),\n",
    "                nn.Dropout(0.6),\n",
    "                nn.Linear(128, 10),\n",
    "            )\n",
    "model._fc = linear_layers\n",
    "\n",
    "for param in model.parameters():\n",
    "    param.require_grad = False\n",
    "\n",
    "for param in model._fc.parameters():\n",
    "    param.require_grad = True\n",
    "\n",
    "model = model.to(params['device'])"
   ]
  },
  {
   "cell_type": "code",
   "execution_count": null,
   "metadata": {
    "colab": {
     "base_uri": "https://localhost:8080/"
    },
    "id": "sgrs1MEmOW6B",
    "outputId": "5a82ab98-c9fb-4a5e-fc99-391754977637"
   },
   "outputs": [],
   "source": [
    "print(model)"
   ]
  },
  {
   "cell_type": "markdown",
   "metadata": {
    "id": "q1QzWB-0OW6C"
   },
   "source": [
    "### Setup transforms, datasets, and dataloaders"
   ]
  },
  {
   "cell_type": "code",
   "execution_count": 42,
   "metadata": {
    "id": "TmxxK52IOW6C"
   },
   "outputs": [],
   "source": [
    "class GeorgeVsNonGeorgeDataset(Dataset):\n",
    "    def __init__(self, images_filepaths, transform=None):\n",
    "        self.images_filepaths = images_filepaths\n",
    "        self.transform = transform\n",
    "\n",
    "    def __len__(self):\n",
    "        return len(self.images_filepaths)\n",
    "\n",
    "    def __getitem__(self, idx):\n",
    "        image_filepath = self.images_filepaths[idx]\n",
    "        image = cv2.imread(image_filepath)\n",
    "        image = cv2.cvtColor(image, cv2.COLOR_BGR2RGB)\n",
    "        if os.path.normpath(image_filepath).split(os.sep)[-2] == 'georges':\n",
    "            label = 1\n",
    "        else:\n",
    "            label = 0\n",
    "        if self.transform is not None:\n",
    "            image = self.transform(image=image)['image']\n",
    "        return image, label"
   ]
  },
  {
   "cell_type": "code",
   "execution_count": 43,
   "metadata": {
    "id": "yJ_1k0ziOW6G"
   },
   "outputs": [],
   "source": [
    "root_directory = '../data/images'\n",
    "\n",
    "geo_directory = os.path.join(root_directory, 'georges')\n",
    "nongeo_directory = os.path.join(root_directory, 'non_georges')\n",
    "\n",
    "geo_images_paths = sorted([os.path.join(geo_directory, f) for f in os.listdir(geo_directory)])\n",
    "nongeo_images_paths = sorted([os.path.join(nongeo_directory, f) for f in os.listdir(nongeo_directory)])\n",
    "images_paths = [*geo_images_paths, *nongeo_images_paths]\n",
    "\n",
    "num_imgs = len(images_paths)\n",
    "indices = list(range(num_imgs))\n",
    "class_names = ['non_georges', 'georges']\n",
    "\n",
    "np.random.shuffle(images_paths)\n",
    "\n",
    "split = int(params['train_size'] * num_imgs)\n",
    "split2 = int((split + num_imgs) / 2)\n",
    "train_paths, val_paths, test_paths = images_paths[:split], images_paths[split:split2], images_paths[split2:]"
   ]
  },
  {
   "cell_type": "code",
   "execution_count": 44,
   "metadata": {
    "id": "zvQPAP0YOW6I"
   },
   "outputs": [],
   "source": [
    "train_trans = A.Compose(\n",
    "    [\n",
    "        A.SmallestMaxSize(max_size=params['input_size'] + 5),\n",
    "        A.ShiftScaleRotate(shift_limit=0.05, scale_limit=0.05, rotate_limit=15, p=0.5),\n",
    "        A.RandomCrop(height=params['input_size'], width=params['input_size']),\n",
    "        A.RGBShift(r_shift_limit=15, g_shift_limit=15, b_shift_limit=15, p=0.5),\n",
    "        A.RandomBrightnessContrast(p=0.5),\n",
    "        A.Normalize(mean=(0.485, 0.456, 0.406), std=(0.229, 0.224, 0.225)),\n",
    "        ToTensorV2(),\n",
    "    ]\n",
    ")\n",
    "\n",
    "val_trans = A.Compose(\n",
    "    [\n",
    "        A.SmallestMaxSize(max_size=params['input_size'] + 5),\n",
    "        A.CenterCrop(height=params['input_size'], width=params['input_size']),\n",
    "        A.Normalize(mean=(0.485, 0.456, 0.406), std=(0.229, 0.224, 0.225)),\n",
    "        ToTensorV2(),\n",
    "    ]\n",
    ")\n",
    "\n",
    "train_data = GeorgeVsNonGeorgeDataset(images_filepaths=train_paths, transform=train_trans)\n",
    "val_data = GeorgeVsNonGeorgeDataset(images_filepaths=val_paths, transform=val_trans)\n",
    "test_data = GeorgeVsNonGeorgeDataset(images_filepaths=test_paths, transform=val_trans)\n",
    "\n",
    "dataloaders_dict = {'train' : DataLoader(\n",
    "    train_data, batch_size=params['batch_size'], shuffle=True, num_workers=params['num_workers']\n",
    "),\n",
    "                    'val': DataLoader(\n",
    "    val_data, batch_size=params['batch_size'], shuffle=False, num_workers=params['num_workers']\n",
    "),\n",
    "                    'test': DataLoader(\n",
    "    test_data, batch_size=params['batch_size'], shuffle=False, num_workers=params['num_workers']\n",
    ")\n",
    "                   }"
   ]
  },
  {
   "cell_type": "markdown",
   "metadata": {
    "id": "L5P5DZiAOW6J"
   },
   "source": [
    "### Create the optimizer and criterion"
   ]
  },
  {
   "cell_type": "code",
   "execution_count": 45,
   "metadata": {
    "id": "NU04JOVGOW6K"
   },
   "outputs": [],
   "source": [
    "params_to_update = []\n",
    "for name, param in model.named_parameters():\n",
    "    if param.requires_grad == True:\n",
    "        params_to_update.append(param)\n",
    "\n",
    "optimizer = optim.Adam(model.parameters(), lr=params['lr'])\n",
    "scheduler = torch.optim.lr_scheduler.ReduceLROnPlateau(optimizer, 'max', patience=1, cooldown=1)"
   ]
  },
  {
   "cell_type": "code",
   "execution_count": 46,
   "metadata": {
    "id": "aDfBUjZKOW6L"
   },
   "outputs": [],
   "source": [
    "criterion = nn.CrossEntropyLoss()"
   ]
  },
  {
   "cell_type": "markdown",
   "metadata": {
    "id": "gjvPZ-DYOW6L"
   },
   "source": [
    "### Train and evaluate"
   ]
  },
  {
   "cell_type": "code",
   "execution_count": 47,
   "metadata": {
    "id": "hfO7ep_JOW6O"
   },
   "outputs": [],
   "source": [
    "def train_model(model, dataloaders, criterion, optimizer, lr_scheduler, num_epochs=10):\n",
    "    since = time.time()\n",
    "\n",
    "    history = {\n",
    "        'train_acc': [],\n",
    "        'train_loss': [],\n",
    "        'val_acc': [],\n",
    "        'val_loss': []\n",
    "    }\n",
    "\n",
    "    best_model_wts = copy.deepcopy(model.state_dict())\n",
    "    best_acc = 0.0\n",
    "\n",
    "    for epoch in range(num_epochs):\n",
    "        print(f'Epoch {epoch + 1}/{num_epochs}')\n",
    "        print('-' * 10)\n",
    "\n",
    "        for phase in ['train', 'val']:\n",
    "            if phase == 'train':\n",
    "                model.train()\n",
    "            else:\n",
    "                model.eval()\n",
    "\n",
    "            running_loss = 0.0\n",
    "            running_corrects = 0\n",
    "\n",
    "            for inputs, labels in dataloaders[phase]:\n",
    "                inputs = inputs.to(params['device'])\n",
    "                labels = labels.to(params['device'])\n",
    "\n",
    "                optimizer.zero_grad()\n",
    "\n",
    "                with torch.set_grad_enabled(phase == 'train'):\n",
    "                    outputs = model(inputs)\n",
    "                    loss = criterion(outputs, labels)\n",
    "\n",
    "                    _, preds = torch.max(outputs, 1)\n",
    "\n",
    "                    if phase == 'train':\n",
    "                        loss.backward()\n",
    "                        optimizer.step()\n",
    "\n",
    "                # statistics\n",
    "                running_loss += loss.item() * inputs.size(0)\n",
    "                running_corrects += torch.sum(preds == labels.data)\n",
    "            \n",
    "            epoch_loss = running_loss / len(dataloaders[phase].dataset)\n",
    "            epoch_acc = running_corrects.double() / len(dataloaders[phase].dataset)\n",
    "\n",
    "            print(f'{phase} Loss: {epoch_loss:.4f} Acc: {epoch_acc:.4f}')\n",
    "\n",
    "            if phase == 'val' and epoch_acc > best_acc:\n",
    "                best_acc = epoch_acc\n",
    "                best_model_wts = copy.deepcopy(model.state_dict())\n",
    "            if phase == 'train':\n",
    "                history['train_acc'].append(epoch_acc)\n",
    "                history['train_loss'].append(epoch_loss)\n",
    "            if phase == 'val':\n",
    "                history['val_acc'].append(epoch_acc)\n",
    "                history['val_loss'].append(epoch_loss)\n",
    "        \n",
    "        lr_scheduler.step(epoch_loss)\n",
    "\n",
    "        print()\n",
    "\n",
    "    time_elapsed = time.time() - since\n",
    "    print(f'Training complete in {time_elapsed // 60:.0f}m {time_elapsed % 60:.0f}s')\n",
    "    print(f'Best val Acc: {best_acc:4f}')\n",
    "\n",
    "    model.load_state_dict(best_model_wts)\n",
    "    return model, history"
   ]
  },
  {
   "cell_type": "code",
   "execution_count": 48,
   "metadata": {
    "id": "oK6jJQ83OW6Y"
   },
   "outputs": [],
   "source": [
    "def visualize_images(model, num_images=6):\n",
    "    mean = np.array([0.485, 0.456, 0.406])\n",
    "    std =  np.array([0.229, 0.224, 0.225])\n",
    "    was_training = model.training\n",
    "    model.eval()\n",
    "    images_so_far = 0\n",
    "    fig = plt.figure(figsize=(16, 17))\n",
    "\n",
    "    with torch.no_grad():\n",
    "        for i, (inputs, labels) in enumerate(dataloaders_dict['test']):\n",
    "            inputs = inputs.to(params['device'])\n",
    "            labels = labels.to(params['device'])\n",
    "\n",
    "            outputs = model(inputs)\n",
    "            _, preds = torch.max(outputs, 1)\n",
    "\n",
    "            for j in range(inputs.size()[0]):\n",
    "                images_so_far += 1\n",
    "                ax = plt.subplot(num_images // 2, 2, images_so_far)\n",
    "                ax.axis('off')\n",
    "                ax.set_title(f'predicted: {class_names[preds[j]]}, true label: {class_names[labels[j]]}')\n",
    "                img = inputs.cpu().data[j].numpy().transpose((1, 2, 0)) * std + mean\n",
    "                img = np.clip(img, 0, 1)\n",
    "                plt.imshow(img)\n",
    "\n",
    "                if images_so_far == num_images:\n",
    "                    model.train(mode=was_training)\n",
    "                    return\n",
    "        model.train(mode=was_training)\n",
    "        \n",
    "def build_val_curves(hist):\n",
    "    epochs = np.arange(1, params['num_epochs'] + 1)\n",
    "    plt.figure()\n",
    "    plt.plot(epochs, hist['train_acc'], label='train')\n",
    "    plt.plot(epochs, hist['val_acc'], label='validation')\n",
    "    plt.grid()\n",
    "    plt.xlabel('epoch')\n",
    "    plt.ylabel('accuracy')\n",
    "    plt.title('model accuracy')\n",
    "    plt.legend()\n",
    "    plt.show()\n",
    "    plt.figure()\n",
    "    plt.plot(epochs, hist['train_loss'], label='train')\n",
    "    plt.plot(epochs, hist['val_loss'], label='validation')\n",
    "    plt.grid()\n",
    "    plt.xlabel('epoch')\n",
    "    plt.ylabel('model loss')\n",
    "    plt.title('loss curves')\n",
    "    plt.legend()\n",
    "    plt.show()"
   ]
  },
  {
   "cell_type": "code",
   "execution_count": 49,
   "metadata": {
    "colab": {
     "base_uri": "https://localhost:8080/"
    },
    "id": "ig0b7nqxOW6Z",
    "outputId": "013b537b-c345-4e84-b3a1-7a24bcd4b6c5"
   },
   "outputs": [
    {
     "name": "stdout",
     "output_type": "stream",
     "text": [
      "Epoch 1/15\n",
      "----------\n",
      "train Loss: 0.5338 Acc: 0.7270\n",
      "val Loss: 0.7217 Acc: 0.7287\n",
      "\n",
      "Epoch 2/15\n",
      "----------\n",
      "train Loss: 0.2870 Acc: 0.8854\n",
      "val Loss: 0.3208 Acc: 0.8760\n",
      "\n",
      "Epoch 3/15\n",
      "----------\n",
      "train Loss: 0.1814 Acc: 0.9328\n",
      "val Loss: 0.2714 Acc: 0.9006\n",
      "\n",
      "Epoch 4/15\n",
      "----------\n",
      "train Loss: 0.1280 Acc: 0.9534\n",
      "val Loss: 0.2256 Acc: 0.9123\n",
      "\n",
      "Epoch 5/15\n",
      "----------\n",
      "train Loss: 0.1054 Acc: 0.9654\n",
      "val Loss: 0.2112 Acc: 0.9170\n",
      "\n",
      "Epoch 6/15\n",
      "----------\n",
      "train Loss: 0.1003 Acc: 0.9672\n",
      "val Loss: 0.2002 Acc: 0.9275\n",
      "\n",
      "Epoch 7/15\n",
      "----------\n",
      "train Loss: 0.0943 Acc: 0.9694\n",
      "val Loss: 0.1919 Acc: 0.9298\n",
      "\n",
      "Epoch 8/15\n",
      "----------\n",
      "train Loss: 0.0962 Acc: 0.9697\n",
      "val Loss: 0.1852 Acc: 0.9380\n",
      "\n",
      "Epoch 9/15\n",
      "----------\n",
      "train Loss: 0.0932 Acc: 0.9697\n",
      "val Loss: 0.1845 Acc: 0.9357\n",
      "\n",
      "Epoch 10/15\n",
      "----------\n",
      "train Loss: 0.0999 Acc: 0.9662\n",
      "val Loss: 0.1816 Acc: 0.9357\n",
      "\n",
      "Epoch 11/15\n",
      "----------\n",
      "train Loss: 0.0868 Acc: 0.9707\n",
      "val Loss: 0.1813 Acc: 0.9357\n",
      "\n",
      "Epoch 12/15\n",
      "----------\n",
      "train Loss: 0.0892 Acc: 0.9707\n",
      "val Loss: 0.1798 Acc: 0.9368\n",
      "\n",
      "Epoch 13/15\n",
      "----------\n",
      "train Loss: 0.0993 Acc: 0.9669\n",
      "val Loss: 0.1804 Acc: 0.9357\n",
      "\n",
      "Epoch 14/15\n",
      "----------\n",
      "train Loss: 0.0954 Acc: 0.9692\n",
      "val Loss: 0.1798 Acc: 0.9357\n",
      "\n",
      "Epoch 15/15\n",
      "----------\n",
      "train Loss: 0.1029 Acc: 0.9657\n",
      "val Loss: 0.1793 Acc: 0.9380\n",
      "\n",
      "Training complete in 15m 59s\n",
      "Best val Acc: 0.938012\n"
     ]
    }
   ],
   "source": [
    "model, hist = train_model(model, dataloaders_dict, criterion, optimizer,\n",
    "                          scheduler, num_epochs=params['num_epochs']\n",
    "                         )"
   ]
  },
  {
   "cell_type": "markdown",
   "metadata": {
    "id": "ZW8T1YJSPvTa"
   },
   "source": [
    "### Predict labels and visualize curves"
   ]
  },
  {
   "cell_type": "code",
   "execution_count": 50,
   "metadata": {
    "colab": {
     "base_uri": "https://localhost:8080/"
    },
    "id": "XGTBRKKimv2o",
    "outputId": "b7444b8e-b0f9-478a-a4b3-572d0c8f40b3"
   },
   "outputs": [
    {
     "name": "stdout",
     "output_type": "stream",
     "text": [
      "Accuracy of the network on test images: 93.80841121495327\n"
     ]
    }
   ],
   "source": [
    "correct = 0\n",
    "total = 0\n",
    "with torch.no_grad():\n",
    "    for data in dataloaders_dict['test']:\n",
    "        inputs, labels = data\n",
    "        inputs = inputs.to(params['device'])\n",
    "        labels = labels.to(params['device'])\n",
    "        outputs = model(inputs)\n",
    "        _, predicted = torch.max(outputs.data, 1)\n",
    "        total += labels.size(0)\n",
    "        correct += (predicted == labels).sum().item()\n",
    "\n",
    "print(f'Accuracy of the network on test images: {100 * correct / total}')"
   ]
  },
  {
   "cell_type": "code",
   "execution_count": null,
   "metadata": {
    "colab": {
     "base_uri": "https://localhost:8080/",
     "height": 971
    },
    "id": "zjhYLveIOW6f",
    "outputId": "cdd37be5-9ce3-40c4-cd28-2a5eaddc4d0a"
   },
   "outputs": [],
   "source": [
    "visualize_images(model, 12)"
   ]
  },
  {
   "cell_type": "code",
   "execution_count": 52,
   "metadata": {
    "colab": {
     "base_uri": "https://localhost:8080/",
     "height": 573
    },
    "id": "GNoFfdrSOW6f",
    "outputId": "f581fbb6-9a44-4bb3-985b-b96a6a85622a"
   },
   "outputs": [
    {
     "data": {
      "image/png": "[encoded data removed]",
      "text/plain": [
       "<Figure size 432x288 with 1 Axes>"
      ]
     },
     "metadata": {
      "needs_background": "light",
      "tags": []
     },
     "output_type": "display_data"
    },
    {
     "data": {
      "image/png": "[encoded data removed]",
      "text/plain": [
       "<Figure size 432x288 with 1 Axes>"
      ]
     },
     "metadata": {
      "needs_background": "light",
      "tags": []
     },
     "output_type": "display_data"
    }
   ],
   "source": [
    "build_val_curves(hist)"
   ]
  },
  {
   "cell_type": "code",
   "execution_count": 53,
   "metadata": {
    "id": "dEmiFMDJOW6g"
   },
   "outputs": [],
   "source": [
    "torch.save(model.state_dict(), '../models/efficient-net-v1.pt')"
   ]
  },
  {
   "cell_type": "code",
   "execution_count": null,
   "metadata": {
    "id": "oM_lsgX3OW6g"
   },
   "outputs": [],
   "source": []
  },
  {
   "cell_type": "code",
   "execution_count": null,
   "metadata": {
    "id": "FLeFMHQjUOrY"
   },
   "outputs": [],
   "source": []
  }
 ],
 "metadata": {
  "accelerator": "GPU",
  "colab": {
   "collapsed_sections": [],
   "name": "1.1-vam-resnet50-augmentations.ipynb",
   "provenance": [],
   "toc_visible": true
  },
  "kernelspec": {
   "display_name": "Python 3",
   "language": "python",
   "name": "python3"
  },
  "language_info": {
   "codemirror_mode": {
    "name": "ipython",
    "version": 3
   },
   "file_extension": ".py",
   "mimetype": "text/x-python",
   "name": "python",
   "nbconvert_exporter": "python",
   "pygments_lexer": "ipython3",
   "version": "3.9.1"
  }
 },
 "nbformat": 4,
 "nbformat_minor": 1
}
